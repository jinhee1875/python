{
  "nbformat": 4,
  "nbformat_minor": 0,
  "metadata": {
    "colab": {
      "name": "이진희.ipynb",
      "version": "0.3.2",
      "provenance": [],
      "collapsed_sections": [],
      "include_colab_link": true
    },
    "kernelspec": {
      "name": "python3",
      "display_name": "Python 3"
    }
  },
  "cells": [
    {
      "cell_type": "markdown",
      "metadata": {
        "id": "view-in-github",
        "colab_type": "text"
      },
      "source": [
        "<a href=\"https://colab.research.google.com/github/jinhee1875/python/blob/master/%EC%9D%B4%EC%A7%84%ED%9D%AC.ipynb\" target=\"_parent\"><img src=\"https://colab.research.google.com/assets/colab-badge.svg\" alt=\"Open In Colab\"/></a>"
      ]
    },
    {
      "cell_type": "markdown",
      "metadata": {
        "id": "dHh2NCs9O8mS",
        "colab_type": "text"
      },
      "source": [
        "# 리스트"
      ]
    },
    {
      "cell_type": "markdown",
      "metadata": {
        "id": "FMMC6hKUP7vf",
        "colab_type": "text"
      },
      "source": [
        "## 리스트란?\n",
        " 리스트는 여러 값을 담을 수 있는 변수입니다."
      ]
    },
    {
      "cell_type": "markdown",
      "metadata": {
        "id": "z5XlMEPrP-WT",
        "colab_type": "text"
      },
      "source": [
        "### 1. 리스트 만들기\n",
        "방법은 2가지"
      ]
    },
    {
      "cell_type": "markdown",
      "metadata": {
        "id": "zxR27hQRQO5u",
        "colab_type": "text"
      },
      "source": [
        "#### 방법1"
      ]
    },
    {
      "cell_type": "code",
      "metadata": {
        "id": "JPnGqzyjQdmv",
        "colab_type": "code",
        "colab": {}
      },
      "source": [
        "# list1 이라는 빈 리스트를 만들어 보겠습니다.\n",
        "list1 = []"
      ],
      "execution_count": 0,
      "outputs": []
    },
    {
      "cell_type": "code",
      "metadata": {
        "id": "_nxMjBAyQvU7",
        "colab_type": "code",
        "outputId": "3b852715-00ed-4f44-cf3e-97bc251704ad",
        "colab": {
          "base_uri": "https://localhost:8080/",
          "height": 34
        }
      },
      "source": [
        "print(list1)"
      ],
      "execution_count": 0,
      "outputs": [
        {
          "output_type": "stream",
          "text": [
            "[]\n"
          ],
          "name": "stdout"
        }
      ]
    },
    {
      "cell_type": "code",
      "metadata": {
        "id": "dkKffjYOQ0PL",
        "colab_type": "code",
        "colab": {}
      },
      "source": [
        "#list2를 만들어보자. 1, '철수', True를 넣어서\n",
        "list2 = [1, '철수', True]"
      ],
      "execution_count": 0,
      "outputs": []
    },
    {
      "cell_type": "code",
      "metadata": {
        "id": "5jsMOCzIRISO",
        "colab_type": "code",
        "outputId": "d5abbef4-8e0f-4f2b-e69c-f15ee61d9e20",
        "colab": {
          "base_uri": "https://localhost:8080/",
          "height": 34
        }
      },
      "source": [
        "print(list2)"
      ],
      "execution_count": 0,
      "outputs": [
        {
          "output_type": "stream",
          "text": [
            "[1, '철수', True]\n"
          ],
          "name": "stdout"
        }
      ]
    },
    {
      "cell_type": "markdown",
      "metadata": {
        "id": "e28gOsZ6RUe9",
        "colab_type": "text"
      },
      "source": [
        "#### 방법2"
      ]
    },
    {
      "cell_type": "code",
      "metadata": {
        "id": "CpBv_EPiR9cV",
        "colab_type": "code",
        "colab": {}
      },
      "source": [
        "list3 = list()"
      ],
      "execution_count": 0,
      "outputs": []
    },
    {
      "cell_type": "code",
      "metadata": {
        "id": "L86PBjqbSECA",
        "colab_type": "code",
        "outputId": "5c4febdb-1ebb-43d2-f8e3-5d7aa8fc8fde",
        "colab": {
          "base_uri": "https://localhost:8080/",
          "height": 34
        }
      },
      "source": [
        "print(list3)"
      ],
      "execution_count": 0,
      "outputs": [
        {
          "output_type": "stream",
          "text": [
            "[]\n"
          ],
          "name": "stdout"
        }
      ]
    },
    {
      "cell_type": "code",
      "metadata": {
        "id": "NY2oSK5DSEwm",
        "colab_type": "code",
        "colab": {}
      },
      "source": [
        "# 1, '철수', True를 넣어서 list4 생성\n",
        "list4 = list([1, '철수', True])"
      ],
      "execution_count": 0,
      "outputs": []
    },
    {
      "cell_type": "code",
      "metadata": {
        "id": "tDF5hQSDV5M-",
        "colab_type": "code",
        "outputId": "caabdc5b-c5c2-46ea-d1c7-163f96eb3415",
        "colab": {
          "base_uri": "https://localhost:8080/",
          "height": 34
        }
      },
      "source": [
        "print(list4)"
      ],
      "execution_count": 0,
      "outputs": [
        {
          "output_type": "stream",
          "text": [
            "[1, '철수', True]\n"
          ],
          "name": "stdout"
        }
      ]
    },
    {
      "cell_type": "code",
      "metadata": {
        "id": "W8oQgKUyV8MI",
        "colab_type": "code",
        "colab": {}
      },
      "source": [
        ""
      ],
      "execution_count": 0,
      "outputs": []
    }
  ]
}